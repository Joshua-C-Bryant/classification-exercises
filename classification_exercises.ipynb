{
 "cells": [
  {
   "cell_type": "code",
   "execution_count": 1,
   "id": "61fd2a7a",
   "metadata": {},
   "outputs": [],
   "source": [
    "import pandas as pd\n",
    "import numpy as np\n",
    "\n",
    "import seaborn as sns\n",
    "import matplotlib.pyplot as plt\n",
    "plt.rcParams['figure.figsize'] = (4, 2)\n",
    "\n",
    "from pydataset import data\n",
    "\n",
    "from sklearn.model_selection import train_test_split\n",
    "from sklearn.impute import SimpleImputer\n",
    "\n",
    "import warnings\n",
    "warnings.filterwarnings(\"ignore\")\n",
    "\n",
    "import acquire\n",
    "from acquire import get_titanic_data, get_iris_data\n",
    "\n",
    "import os\n",
    "import env\n",
    "\n",
    "import explore"
   ]
  },
  {
   "cell_type": "markdown",
   "id": "b8444703",
   "metadata": {},
   "source": [
    "### In a jupyter notebook, classification_exercises.ipynb, use a python module (pydata or seaborn datasets) containing datasets as a source from the iris data. Create a pandas dataframe, df_iris, from this data."
   ]
  },
  {
   "cell_type": "code",
   "execution_count": null,
   "id": "1ee2bd7d",
   "metadata": {},
   "outputs": [],
   "source": [
    "df_iris = sns.load_dataset('iris')"
   ]
  },
  {
   "cell_type": "code",
   "execution_count": null,
   "id": "678c86ce",
   "metadata": {},
   "outputs": [],
   "source": [
    "type(df_iris)"
   ]
  },
  {
   "cell_type": "markdown",
   "id": "20ddf21c",
   "metadata": {},
   "source": [
    "#### print the first 3 rows"
   ]
  },
  {
   "cell_type": "code",
   "execution_count": null,
   "id": "ac47624d",
   "metadata": {},
   "outputs": [],
   "source": [
    "df_iris.head(3)"
   ]
  },
  {
   "cell_type": "markdown",
   "id": "88242732",
   "metadata": {},
   "source": [
    "#### print the number of rows and columns"
   ]
  },
  {
   "cell_type": "code",
   "execution_count": null,
   "id": "8f31c8b4",
   "metadata": {},
   "outputs": [],
   "source": [
    "df_iris.shape"
   ]
  },
  {
   "cell_type": "markdown",
   "id": "c1418e04",
   "metadata": {},
   "source": [
    "#### print the column names"
   ]
  },
  {
   "cell_type": "code",
   "execution_count": null,
   "id": "f434ca09",
   "metadata": {},
   "outputs": [],
   "source": [
    "df_iris.columns"
   ]
  },
  {
   "cell_type": "markdown",
   "id": "ec2d652c",
   "metadata": {},
   "source": [
    "#### print the data type of each column"
   ]
  },
  {
   "cell_type": "code",
   "execution_count": null,
   "id": "c4d6752b",
   "metadata": {},
   "outputs": [],
   "source": [
    "df_iris.info()"
   ]
  },
  {
   "cell_type": "markdown",
   "id": "ec90a1b2",
   "metadata": {},
   "source": [
    "#### print the summary statistics for each of the numeric variables"
   ]
  },
  {
   "cell_type": "code",
   "execution_count": null,
   "id": "50e08b6f",
   "metadata": {},
   "outputs": [],
   "source": [
    "# .T to transpose\n",
    "df_iris.describe().T"
   ]
  },
  {
   "cell_type": "markdown",
   "id": "89504260",
   "metadata": {},
   "source": [
    "### Read the Table1_CustDetails table from the Excel_Exercises.xlsx file into a dataframe named df_excel."
   ]
  },
  {
   "cell_type": "code",
   "execution_count": null,
   "id": "01675322",
   "metadata": {},
   "outputs": [],
   "source": [
    "# redo this with Spreadsheets_Exercises.xlsx\n",
    "telco = pd.read_excel(\"Spreadsheets_Exercises.xlsx\")\n",
    "telco.head().T"
   ]
  },
  {
   "cell_type": "code",
   "execution_count": null,
   "id": "2fc4db2d",
   "metadata": {},
   "outputs": [],
   "source": [
    "# Setup Yes/No as booleans\n",
    "telco.partner = telco.partner == \"Yes\"\n",
    "telco.dependents = telco.dependents == \"Yes\"\n",
    "telco.churn = telco.churn == \"Yes\"\n",
    "telco.is_senior_citizen = telco.is_senior_citizen == 1"
   ]
  },
  {
   "cell_type": "code",
   "execution_count": null,
   "id": "46db30c8",
   "metadata": {},
   "outputs": [],
   "source": [
    "# map phone_service, internet_service, and contract_type\n",
    "contract_type = {\n",
    "    0: \"Month-to-Month\",\n",
    "    1: \"1 Year\",\n",
    "    2: \"2 Year\"\n",
    "}\n",
    "\n",
    "phone_service = {\n",
    "    0: \"No Phone Service\",\n",
    "    1: \"One line\",\n",
    "    2: \"Two or more lines\"\n",
    "}\n",
    "\n",
    "internet_service = {\n",
    "    0: \"No Internet Service\",\n",
    "    1: \"DSL\",\n",
    "    2: \"Fiber Optic\"\n",
    "}\n",
    "\n",
    "telco.contract_type = telco.contract_type.map(contract_type)\n",
    "telco.phone_service = telco.phone_service.map(phone_service)\n",
    "telco.internet_service = telco.internet_service.map(internet_service)"
   ]
  },
  {
   "cell_type": "code",
   "execution_count": null,
   "id": "9ca942a4",
   "metadata": {},
   "outputs": [],
   "source": [
    "telco.head().T"
   ]
  },
  {
   "cell_type": "code",
   "execution_count": null,
   "id": "64dd6af6",
   "metadata": {},
   "outputs": [],
   "source": [
    "df_excel = pd.read_csv('Cust_Churn_Telco.csv')"
   ]
  },
  {
   "cell_type": "markdown",
   "id": "324dc3d1",
   "metadata": {},
   "source": [
    "#### assign the first 100 rows to a new dataframe, df_excel_sample"
   ]
  },
  {
   "cell_type": "code",
   "execution_count": null,
   "id": "d6f3e2df",
   "metadata": {},
   "outputs": [],
   "source": [
    "df_excel_sample = df_excel.loc[0:100, :].copy()\n",
    "df_excel_sample"
   ]
  },
  {
   "cell_type": "markdown",
   "id": "435bb87e",
   "metadata": {},
   "source": [
    "#### print the number of rows of your original dataframe"
   ]
  },
  {
   "cell_type": "code",
   "execution_count": null,
   "id": "705a8ad4",
   "metadata": {},
   "outputs": [],
   "source": [
    "len(df_excel)"
   ]
  },
  {
   "cell_type": "markdown",
   "id": "da93ed2d",
   "metadata": {},
   "source": [
    "#### print the first 5 column names\n"
   ]
  },
  {
   "cell_type": "code",
   "execution_count": null,
   "id": "763c776c",
   "metadata": {},
   "outputs": [],
   "source": [
    "df_excel.columns[:5]"
   ]
  },
  {
   "cell_type": "markdown",
   "id": "37966bba",
   "metadata": {},
   "source": [
    "#### print the column names that have a data type of object"
   ]
  },
  {
   "cell_type": "code",
   "execution_count": null,
   "id": "e38e0a9f",
   "metadata": {},
   "outputs": [],
   "source": [
    "df_excel.select_dtypes(include=['object']).columns"
   ]
  },
  {
   "cell_type": "markdown",
   "id": "f3582331",
   "metadata": {},
   "source": [
    "#### compute the range for each of the numeric variables."
   ]
  },
  {
   "cell_type": "code",
   "execution_count": null,
   "id": "29916da7",
   "metadata": {},
   "outputs": [],
   "source": [
    "numerics = df_excel.select_dtypes(include=['float64','int64'])\n",
    "numerics.max()-numerics.min()"
   ]
  },
  {
   "cell_type": "code",
   "execution_count": null,
   "id": "c0ba12f5",
   "metadata": {},
   "outputs": [],
   "source": [
    "print('Tenure range = ',(df_excel.tenure.max() - df_excel.tenure.min()))\n",
    "print('Monthly Charges range = ',(df_excel.MonthlyCharges.max() - df_excel.MonthlyCharges.min()))\n",
    "print('Total Charges range = ',(df_excel.TotalCharges.max() - df_excel.TotalCharges.min()))"
   ]
  },
  {
   "cell_type": "markdown",
   "id": "a0946129",
   "metadata": {},
   "source": [
    "### Read the data from this google sheet into a dataframe, df_google"
   ]
  },
  {
   "cell_type": "code",
   "execution_count": null,
   "id": "fca53b8a",
   "metadata": {},
   "outputs": [],
   "source": [
    "sheet_url = 'https://docs.google.com/spreadsheets/d/1Uhtml8KY19LILuZsrDtlsHHDC9wuDGUSe8LTEwvdI5g/edit#gid=341089357'    \n",
    "csv_export_url = sheet_url.replace('/edit#gid=', '/export?format=csv&gid=')\n",
    "df_google = pd.read_csv(csv_export_url)"
   ]
  },
  {
   "cell_type": "markdown",
   "id": "0ae157c7",
   "metadata": {},
   "source": [
    "#### print the first 3 rows"
   ]
  },
  {
   "cell_type": "code",
   "execution_count": null,
   "id": "1230670c",
   "metadata": {},
   "outputs": [],
   "source": [
    "df_google.head(3)"
   ]
  },
  {
   "cell_type": "markdown",
   "id": "7009d621",
   "metadata": {},
   "source": [
    "#### print the number of rows and columns"
   ]
  },
  {
   "cell_type": "code",
   "execution_count": null,
   "id": "a3459d01",
   "metadata": {},
   "outputs": [],
   "source": [
    "df_google.shape"
   ]
  },
  {
   "cell_type": "markdown",
   "id": "0cee3d7f",
   "metadata": {},
   "source": [
    "#### print the column names"
   ]
  },
  {
   "cell_type": "code",
   "execution_count": null,
   "id": "27b8283e",
   "metadata": {},
   "outputs": [],
   "source": [
    "df_google.columns.tolist()"
   ]
  },
  {
   "cell_type": "markdown",
   "id": "d022ab21",
   "metadata": {},
   "source": [
    "#### print the data type of each column"
   ]
  },
  {
   "cell_type": "code",
   "execution_count": null,
   "id": "b6df896f",
   "metadata": {},
   "outputs": [],
   "source": [
    "df_google.dtypes"
   ]
  },
  {
   "cell_type": "markdown",
   "id": "3d8e5813",
   "metadata": {},
   "source": [
    "#### print the summary statistics for each of the numeric variables"
   ]
  },
  {
   "cell_type": "code",
   "execution_count": null,
   "id": "dfcd9923",
   "metadata": {},
   "outputs": [],
   "source": [
    "df_google.describe().T"
   ]
  },
  {
   "cell_type": "markdown",
   "id": "d1886ade",
   "metadata": {},
   "source": [
    "#### print the unique values for each of your categorical variables\n"
   ]
  },
  {
   "cell_type": "code",
   "execution_count": null,
   "id": "fad1a9b8",
   "metadata": {},
   "outputs": [],
   "source": [
    "for column in df_google.select_dtypes(include = 'object').columns:\n",
    "    print(f\"Value in the {column} column:\")\n",
    "    print(df_google[column].value_counts())\n",
    "    print(\"-------\")\n",
    "    print()"
   ]
  },
  {
   "cell_type": "code",
   "execution_count": null,
   "id": "a5404542",
   "metadata": {},
   "outputs": [],
   "source": [
    "print(df_google.Survived.value_counts())\n",
    "print(df_google.Pclass.value_counts())\n",
    "print(df_google.Sex.value_counts())\n",
    "print(df_google.SibSp.value_counts())\n",
    "print(df_google.Parch.value_counts())\n",
    "print(df_google.Cabin.value_counts())\n",
    "print(df_google.Embarked.value_counts())"
   ]
  },
  {
   "cell_type": "markdown",
   "id": "87b9a93d",
   "metadata": {},
   "source": [
    "### Data Prep Exercises"
   ]
  },
  {
   "cell_type": "markdown",
   "id": "53f6b509",
   "metadata": {},
   "source": [
    "#### Use the function defined in acquire.py to load the iris data."
   ]
  },
  {
   "cell_type": "code",
   "execution_count": 2,
   "id": "e0dd0437",
   "metadata": {},
   "outputs": [
    {
     "data": {
      "text/html": [
       "<div>\n",
       "<style scoped>\n",
       "    .dataframe tbody tr th:only-of-type {\n",
       "        vertical-align: middle;\n",
       "    }\n",
       "\n",
       "    .dataframe tbody tr th {\n",
       "        vertical-align: top;\n",
       "    }\n",
       "\n",
       "    .dataframe thead th {\n",
       "        text-align: right;\n",
       "    }\n",
       "</style>\n",
       "<table border=\"1\" class=\"dataframe\">\n",
       "  <thead>\n",
       "    <tr style=\"text-align: right;\">\n",
       "      <th></th>\n",
       "      <th>species_id</th>\n",
       "      <th>species_name</th>\n",
       "      <th>measurement_id</th>\n",
       "      <th>sepal_length</th>\n",
       "      <th>sepal_width</th>\n",
       "      <th>petal_length</th>\n",
       "      <th>petal_width</th>\n",
       "    </tr>\n",
       "  </thead>\n",
       "  <tbody>\n",
       "    <tr>\n",
       "      <th>0</th>\n",
       "      <td>1</td>\n",
       "      <td>setosa</td>\n",
       "      <td>1</td>\n",
       "      <td>5.1</td>\n",
       "      <td>3.5</td>\n",
       "      <td>1.4</td>\n",
       "      <td>0.2</td>\n",
       "    </tr>\n",
       "    <tr>\n",
       "      <th>1</th>\n",
       "      <td>1</td>\n",
       "      <td>setosa</td>\n",
       "      <td>2</td>\n",
       "      <td>4.9</td>\n",
       "      <td>3.0</td>\n",
       "      <td>1.4</td>\n",
       "      <td>0.2</td>\n",
       "    </tr>\n",
       "    <tr>\n",
       "      <th>2</th>\n",
       "      <td>1</td>\n",
       "      <td>setosa</td>\n",
       "      <td>3</td>\n",
       "      <td>4.7</td>\n",
       "      <td>3.2</td>\n",
       "      <td>1.3</td>\n",
       "      <td>0.2</td>\n",
       "    </tr>\n",
       "    <tr>\n",
       "      <th>3</th>\n",
       "      <td>1</td>\n",
       "      <td>setosa</td>\n",
       "      <td>4</td>\n",
       "      <td>4.6</td>\n",
       "      <td>3.1</td>\n",
       "      <td>1.5</td>\n",
       "      <td>0.2</td>\n",
       "    </tr>\n",
       "    <tr>\n",
       "      <th>4</th>\n",
       "      <td>1</td>\n",
       "      <td>setosa</td>\n",
       "      <td>5</td>\n",
       "      <td>5.0</td>\n",
       "      <td>3.6</td>\n",
       "      <td>1.4</td>\n",
       "      <td>0.2</td>\n",
       "    </tr>\n",
       "  </tbody>\n",
       "</table>\n",
       "</div>"
      ],
      "text/plain": [
       "   species_id species_name  measurement_id  sepal_length  sepal_width  \\\n",
       "0           1       setosa               1           5.1          3.5   \n",
       "1           1       setosa               2           4.9          3.0   \n",
       "2           1       setosa               3           4.7          3.2   \n",
       "3           1       setosa               4           4.6          3.1   \n",
       "4           1       setosa               5           5.0          3.6   \n",
       "\n",
       "   petal_length  petal_width  \n",
       "0           1.4          0.2  \n",
       "1           1.4          0.2  \n",
       "2           1.3          0.2  \n",
       "3           1.5          0.2  \n",
       "4           1.4          0.2  "
      ]
     },
     "execution_count": 2,
     "metadata": {},
     "output_type": "execute_result"
    }
   ],
   "source": [
    "df = acquire.get_iris_data()\n",
    "df.head()"
   ]
  },
  {
   "cell_type": "markdown",
   "id": "801b538e",
   "metadata": {},
   "source": [
    "#### Drop the species_id and measurement_id columns."
   ]
  },
  {
   "cell_type": "code",
   "execution_count": null,
   "id": "48f4ca7f",
   "metadata": {},
   "outputs": [],
   "source": [
    "df.columns"
   ]
  },
  {
   "cell_type": "code",
   "execution_count": null,
   "id": "096c7422",
   "metadata": {},
   "outputs": [],
   "source": [
    "df = df.drop(columns = ['species_id','measurement_id'])\n",
    "df.head()"
   ]
  },
  {
   "cell_type": "markdown",
   "id": "84f4a5f9",
   "metadata": {},
   "source": [
    "#### Rename the species_name column to just species."
   ]
  },
  {
   "cell_type": "code",
   "execution_count": 3,
   "id": "7d9735ec",
   "metadata": {},
   "outputs": [
    {
     "data": {
      "text/html": [
       "<div>\n",
       "<style scoped>\n",
       "    .dataframe tbody tr th:only-of-type {\n",
       "        vertical-align: middle;\n",
       "    }\n",
       "\n",
       "    .dataframe tbody tr th {\n",
       "        vertical-align: top;\n",
       "    }\n",
       "\n",
       "    .dataframe thead th {\n",
       "        text-align: right;\n",
       "    }\n",
       "</style>\n",
       "<table border=\"1\" class=\"dataframe\">\n",
       "  <thead>\n",
       "    <tr style=\"text-align: right;\">\n",
       "      <th></th>\n",
       "      <th>species_id</th>\n",
       "      <th>species</th>\n",
       "      <th>measurement_id</th>\n",
       "      <th>sepal_length</th>\n",
       "      <th>sepal_width</th>\n",
       "      <th>petal_length</th>\n",
       "      <th>petal_width</th>\n",
       "    </tr>\n",
       "  </thead>\n",
       "  <tbody>\n",
       "    <tr>\n",
       "      <th>0</th>\n",
       "      <td>1</td>\n",
       "      <td>setosa</td>\n",
       "      <td>1</td>\n",
       "      <td>5.1</td>\n",
       "      <td>3.5</td>\n",
       "      <td>1.4</td>\n",
       "      <td>0.2</td>\n",
       "    </tr>\n",
       "    <tr>\n",
       "      <th>1</th>\n",
       "      <td>1</td>\n",
       "      <td>setosa</td>\n",
       "      <td>2</td>\n",
       "      <td>4.9</td>\n",
       "      <td>3.0</td>\n",
       "      <td>1.4</td>\n",
       "      <td>0.2</td>\n",
       "    </tr>\n",
       "    <tr>\n",
       "      <th>2</th>\n",
       "      <td>1</td>\n",
       "      <td>setosa</td>\n",
       "      <td>3</td>\n",
       "      <td>4.7</td>\n",
       "      <td>3.2</td>\n",
       "      <td>1.3</td>\n",
       "      <td>0.2</td>\n",
       "    </tr>\n",
       "    <tr>\n",
       "      <th>3</th>\n",
       "      <td>1</td>\n",
       "      <td>setosa</td>\n",
       "      <td>4</td>\n",
       "      <td>4.6</td>\n",
       "      <td>3.1</td>\n",
       "      <td>1.5</td>\n",
       "      <td>0.2</td>\n",
       "    </tr>\n",
       "    <tr>\n",
       "      <th>4</th>\n",
       "      <td>1</td>\n",
       "      <td>setosa</td>\n",
       "      <td>5</td>\n",
       "      <td>5.0</td>\n",
       "      <td>3.6</td>\n",
       "      <td>1.4</td>\n",
       "      <td>0.2</td>\n",
       "    </tr>\n",
       "  </tbody>\n",
       "</table>\n",
       "</div>"
      ],
      "text/plain": [
       "   species_id species  measurement_id  sepal_length  sepal_width  \\\n",
       "0           1  setosa               1           5.1          3.5   \n",
       "1           1  setosa               2           4.9          3.0   \n",
       "2           1  setosa               3           4.7          3.2   \n",
       "3           1  setosa               4           4.6          3.1   \n",
       "4           1  setosa               5           5.0          3.6   \n",
       "\n",
       "   petal_length  petal_width  \n",
       "0           1.4          0.2  \n",
       "1           1.4          0.2  \n",
       "2           1.3          0.2  \n",
       "3           1.5          0.2  \n",
       "4           1.4          0.2  "
      ]
     },
     "execution_count": 3,
     "metadata": {},
     "output_type": "execute_result"
    }
   ],
   "source": [
    "df = df.rename(columns = {\"species_name\": \"species\"})\n",
    "df.head()"
   ]
  },
  {
   "cell_type": "markdown",
   "id": "781583b7",
   "metadata": {},
   "source": [
    "#### Create dummy variables of the species name."
   ]
  },
  {
   "cell_type": "code",
   "execution_count": null,
   "id": "3750a896",
   "metadata": {},
   "outputs": [],
   "source": [
    "df.species.value_counts()"
   ]
  },
  {
   "cell_type": "code",
   "execution_count": null,
   "id": "d98da0cb",
   "metadata": {},
   "outputs": [],
   "source": [
    "df_dummy = pd.get_dummies(df[['species']], drop_first = False)\n",
    "df_dummy.head()"
   ]
  },
  {
   "cell_type": "code",
   "execution_count": null,
   "id": "e570ab6d",
   "metadata": {},
   "outputs": [],
   "source": [
    "df = pd.concat([df,df_dummy], axis=1)\n",
    "df.head()"
   ]
  },
  {
   "cell_type": "markdown",
   "id": "c8d0e0b4",
   "metadata": {},
   "source": [
    "#### Create a function named prep_iris that accepts the untransformed iris data, and returns the data with the transformations above applied."
   ]
  },
  {
   "cell_type": "code",
   "execution_count": null,
   "id": "7bf569ef",
   "metadata": {},
   "outputs": [],
   "source": [
    "# All Together:\n",
    "##def clean_data(df):\n",
    "#    df.drop_duplicates(inplace = True)\n",
    "#    df.drop(columns = ['species_id','measurement_id'], inplace = True)\n",
    "#    df.rename(columns = {\"species_name\": \"species\"}, inplace = True)\n",
    "#    dummy_df = pd.get_dummies(df[['species']], drop_first = True)\n",
    "#    return pd.concat([df, dummy_df], axis=1)"
   ]
  },
  {
   "cell_type": "markdown",
   "id": "804045a5",
   "metadata": {},
   "source": [
    "### Exploratory Analysis Exercise"
   ]
  },
  {
   "cell_type": "code",
   "execution_count": 4,
   "id": "6973fcc3",
   "metadata": {},
   "outputs": [
    {
     "data": {
      "text/html": [
       "<div>\n",
       "<style scoped>\n",
       "    .dataframe tbody tr th:only-of-type {\n",
       "        vertical-align: middle;\n",
       "    }\n",
       "\n",
       "    .dataframe tbody tr th {\n",
       "        vertical-align: top;\n",
       "    }\n",
       "\n",
       "    .dataframe thead th {\n",
       "        text-align: right;\n",
       "    }\n",
       "</style>\n",
       "<table border=\"1\" class=\"dataframe\">\n",
       "  <thead>\n",
       "    <tr style=\"text-align: right;\">\n",
       "      <th></th>\n",
       "      <th>species_id</th>\n",
       "      <th>species</th>\n",
       "      <th>measurement_id</th>\n",
       "      <th>sepal_length</th>\n",
       "      <th>sepal_width</th>\n",
       "      <th>petal_length</th>\n",
       "      <th>petal_width</th>\n",
       "    </tr>\n",
       "  </thead>\n",
       "  <tbody>\n",
       "    <tr>\n",
       "      <th>0</th>\n",
       "      <td>1</td>\n",
       "      <td>setosa</td>\n",
       "      <td>1</td>\n",
       "      <td>5.1</td>\n",
       "      <td>3.5</td>\n",
       "      <td>1.4</td>\n",
       "      <td>0.2</td>\n",
       "    </tr>\n",
       "    <tr>\n",
       "      <th>1</th>\n",
       "      <td>1</td>\n",
       "      <td>setosa</td>\n",
       "      <td>2</td>\n",
       "      <td>4.9</td>\n",
       "      <td>3.0</td>\n",
       "      <td>1.4</td>\n",
       "      <td>0.2</td>\n",
       "    </tr>\n",
       "    <tr>\n",
       "      <th>2</th>\n",
       "      <td>1</td>\n",
       "      <td>setosa</td>\n",
       "      <td>3</td>\n",
       "      <td>4.7</td>\n",
       "      <td>3.2</td>\n",
       "      <td>1.3</td>\n",
       "      <td>0.2</td>\n",
       "    </tr>\n",
       "    <tr>\n",
       "      <th>3</th>\n",
       "      <td>1</td>\n",
       "      <td>setosa</td>\n",
       "      <td>4</td>\n",
       "      <td>4.6</td>\n",
       "      <td>3.1</td>\n",
       "      <td>1.5</td>\n",
       "      <td>0.2</td>\n",
       "    </tr>\n",
       "    <tr>\n",
       "      <th>4</th>\n",
       "      <td>1</td>\n",
       "      <td>setosa</td>\n",
       "      <td>5</td>\n",
       "      <td>5.0</td>\n",
       "      <td>3.6</td>\n",
       "      <td>1.4</td>\n",
       "      <td>0.2</td>\n",
       "    </tr>\n",
       "  </tbody>\n",
       "</table>\n",
       "</div>"
      ],
      "text/plain": [
       "   species_id species  measurement_id  sepal_length  sepal_width  \\\n",
       "0           1  setosa               1           5.1          3.5   \n",
       "1           1  setosa               2           4.9          3.0   \n",
       "2           1  setosa               3           4.7          3.2   \n",
       "3           1  setosa               4           4.6          3.1   \n",
       "4           1  setosa               5           5.0          3.6   \n",
       "\n",
       "   petal_length  petal_width  \n",
       "0           1.4          0.2  \n",
       "1           1.4          0.2  \n",
       "2           1.3          0.2  \n",
       "3           1.5          0.2  \n",
       "4           1.4          0.2  "
      ]
     },
     "execution_count": 4,
     "metadata": {},
     "output_type": "execute_result"
    }
   ],
   "source": [
    "df.head()"
   ]
  },
  {
   "cell_type": "markdown",
   "id": "ba0f99e4",
   "metadata": {},
   "source": [
    "#### Acquire, prepare & split your data.\n",
    "\n"
   ]
  },
  {
   "cell_type": "code",
   "execution_count": 5,
   "id": "2f1807e5",
   "metadata": {},
   "outputs": [
    {
     "name": "stdout",
     "output_type": "stream",
     "text": [
      "(84, 7)\n",
      "(36, 7)\n",
      "(30, 7)\n"
     ]
    }
   ],
   "source": [
    "train, validate, test = explore.train_validate_test_split(df, 'species', seed=123 )\n",
    "\n",
    "print(train.shape)\n",
    "print(validate.shape)\n",
    "print(test.shape)"
   ]
  },
  {
   "cell_type": "code",
   "execution_count": 6,
   "id": "7e1df73c",
   "metadata": {},
   "outputs": [
    {
     "data": {
      "text/html": [
       "<div>\n",
       "<style scoped>\n",
       "    .dataframe tbody tr th:only-of-type {\n",
       "        vertical-align: middle;\n",
       "    }\n",
       "\n",
       "    .dataframe tbody tr th {\n",
       "        vertical-align: top;\n",
       "    }\n",
       "\n",
       "    .dataframe thead th {\n",
       "        text-align: right;\n",
       "    }\n",
       "</style>\n",
       "<table border=\"1\" class=\"dataframe\">\n",
       "  <thead>\n",
       "    <tr style=\"text-align: right;\">\n",
       "      <th></th>\n",
       "      <th>species_id</th>\n",
       "      <th>species</th>\n",
       "      <th>measurement_id</th>\n",
       "      <th>sepal_length</th>\n",
       "      <th>sepal_width</th>\n",
       "      <th>petal_length</th>\n",
       "      <th>petal_width</th>\n",
       "    </tr>\n",
       "  </thead>\n",
       "  <tbody>\n",
       "    <tr>\n",
       "      <th>0</th>\n",
       "      <td>1</td>\n",
       "      <td>setosa</td>\n",
       "      <td>1</td>\n",
       "      <td>5.1</td>\n",
       "      <td>3.5</td>\n",
       "      <td>1.4</td>\n",
       "      <td>0.2</td>\n",
       "    </tr>\n",
       "    <tr>\n",
       "      <th>1</th>\n",
       "      <td>1</td>\n",
       "      <td>setosa</td>\n",
       "      <td>2</td>\n",
       "      <td>4.9</td>\n",
       "      <td>3.0</td>\n",
       "      <td>1.4</td>\n",
       "      <td>0.2</td>\n",
       "    </tr>\n",
       "  </tbody>\n",
       "</table>\n",
       "</div>"
      ],
      "text/plain": [
       "   species_id species  measurement_id  sepal_length  sepal_width  \\\n",
       "0           1  setosa               1           5.1          3.5   \n",
       "1           1  setosa               2           4.9          3.0   \n",
       "\n",
       "   petal_length  petal_width  \n",
       "0           1.4          0.2  \n",
       "1           1.4          0.2  "
      ]
     },
     "execution_count": 6,
     "metadata": {},
     "output_type": "execute_result"
    }
   ],
   "source": [
    "df.head(2)"
   ]
  },
  {
   "cell_type": "markdown",
   "id": "08a63d00",
   "metadata": {},
   "source": [
    "#### Univariate Stats"
   ]
  },
  {
   "cell_type": "code",
   "execution_count": null,
   "id": "bfbc5d6b",
   "metadata": {
    "scrolled": true
   },
   "outputs": [],
   "source": [
    "cat_vars = ['species_id','species','species_setosa','species_versicolor','species_virginica']\n",
    "quant_vars = ['sepal_length','sepal_width','petal_length','petal_width']"
   ]
  },
  {
   "cell_type": "code",
   "execution_count": null,
   "id": "204adfbc",
   "metadata": {
    "scrolled": true
   },
   "outputs": [],
   "source": [
    "explore.explore_univariate(train, cat_vars, quant_vars)"
   ]
  },
  {
   "cell_type": "markdown",
   "id": "b5f8db2a",
   "metadata": {},
   "source": [
    "#### Bivariate Stats\n",
    "\n"
   ]
  },
  {
   "cell_type": "code",
   "execution_count": null,
   "id": "58ef91a2",
   "metadata": {},
   "outputs": [],
   "source": [
    "explore.explore_bivariate(train, 'species_id', cat_vars, quant_vars)"
   ]
  },
  {
   "cell_type": "markdown",
   "id": "3c274538",
   "metadata": {},
   "source": [
    "#### Multivariate Stats"
   ]
  },
  {
   "cell_type": "code",
   "execution_count": null,
   "id": "d0cc8c91",
   "metadata": {
    "scrolled": true
   },
   "outputs": [],
   "source": [
    "explore.explore_multivariate(train, 'species_id', cat_vars, quant_vars)"
   ]
  },
  {
   "cell_type": "code",
   "execution_count": null,
   "id": "f02ea3c2",
   "metadata": {},
   "outputs": [],
   "source": []
  }
 ],
 "metadata": {
  "kernelspec": {
   "display_name": "Python 3.8.8 64-bit ('base': conda)",
   "language": "python",
   "name": "python388jvsc74a57bd0b64057e63add2b45b1ffc7eab9b09c8889b419c878e2fdf0d08f837f0fc857a7"
  },
  "language_info": {
   "codemirror_mode": {
    "name": "ipython",
    "version": 3
   },
   "file_extension": ".py",
   "mimetype": "text/x-python",
   "name": "python",
   "nbconvert_exporter": "python",
   "pygments_lexer": "ipython3",
   "version": "3.8.8"
  }
 },
 "nbformat": 4,
 "nbformat_minor": 5
}
